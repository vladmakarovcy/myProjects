{
 "cells": [
  {
   "cell_type": "code",
   "execution_count": 1,
   "metadata": {},
   "outputs": [],
   "source": [
    "import pandas as pd\n",
    "import numpy as np"
   ]
  },
  {
   "cell_type": "markdown",
   "metadata": {},
   "source": [
    "## 1."
   ]
  },
  {
   "cell_type": "code",
   "execution_count": 2,
   "metadata": {},
   "outputs": [
    {
     "data": {
      "text/html": [
       "<div>\n",
       "<style scoped>\n",
       "    .dataframe tbody tr th:only-of-type {\n",
       "        vertical-align: middle;\n",
       "    }\n",
       "\n",
       "    .dataframe tbody tr th {\n",
       "        vertical-align: top;\n",
       "    }\n",
       "\n",
       "    .dataframe thead th {\n",
       "        text-align: right;\n",
       "    }\n",
       "</style>\n",
       "<table border=\"1\" class=\"dataframe\">\n",
       "  <thead>\n",
       "    <tr style=\"text-align: right;\">\n",
       "      <th></th>\n",
       "      <th>progress_id</th>\n",
       "      <th>student_id</th>\n",
       "      <th>course_id</th>\n",
       "    </tr>\n",
       "  </thead>\n",
       "  <tbody>\n",
       "    <tr>\n",
       "      <th>0</th>\n",
       "      <td>8459fbc07e32ec92bd7b43d7df9bfa89</td>\n",
       "      <td>a6ae278c0eab719b3784e5ea147c128f</td>\n",
       "      <td>0770b1b039964228294f1f34b29fc2c1</td>\n",
       "    </tr>\n",
       "    <tr>\n",
       "      <th>1</th>\n",
       "      <td>a9d173142534e33ce39146017f9c6835</td>\n",
       "      <td>e24062de06d301937b3b3a8e383e3e21</td>\n",
       "      <td>bf27a4bf4ada4c756451703ea62a914f</td>\n",
       "    </tr>\n",
       "  </tbody>\n",
       "</table>\n",
       "</div>"
      ],
      "text/plain": [
       "                        progress_id                        student_id  \\\n",
       "0  8459fbc07e32ec92bd7b43d7df9bfa89  a6ae278c0eab719b3784e5ea147c128f   \n",
       "1  a9d173142534e33ce39146017f9c6835  e24062de06d301937b3b3a8e383e3e21   \n",
       "\n",
       "                          course_id  \n",
       "0  0770b1b039964228294f1f34b29fc2c1  \n",
       "1  bf27a4bf4ada4c756451703ea62a914f  "
      ]
     },
     "execution_count": 2,
     "metadata": {},
     "output_type": "execute_result"
    }
   ],
   "source": [
    "progresses_df = pd.read_csv('./Data/progresses.csv')  #  (15934, 3)\n",
    "progresses_df.rename(columns={'id' : 'progress_id'}, inplace=True)# переименовали\n",
    "progresses_df.head(2)"
   ]
  },
  {
   "cell_type": "code",
   "execution_count": 3,
   "metadata": {},
   "outputs": [
    {
     "data": {
      "text/html": [
       "<div>\n",
       "<style scoped>\n",
       "    .dataframe tbody tr th:only-of-type {\n",
       "        vertical-align: middle;\n",
       "    }\n",
       "\n",
       "    .dataframe tbody tr th {\n",
       "        vertical-align: top;\n",
       "    }\n",
       "\n",
       "    .dataframe thead th {\n",
       "        text-align: right;\n",
       "    }\n",
       "</style>\n",
       "<table border=\"1\" class=\"dataframe\">\n",
       "  <thead>\n",
       "    <tr style=\"text-align: right;\">\n",
       "      <th></th>\n",
       "      <th>progress_id</th>\n",
       "      <th>module_number</th>\n",
       "      <th>lesson_number</th>\n",
       "      <th>status</th>\n",
       "      <th>start_date</th>\n",
       "      <th>finish_date</th>\n",
       "    </tr>\n",
       "  </thead>\n",
       "  <tbody>\n",
       "    <tr>\n",
       "      <th>0</th>\n",
       "      <td>a387ab916f402cb3fbfffd29f68fd0ce</td>\n",
       "      <td>2</td>\n",
       "      <td>4</td>\n",
       "      <td>done</td>\n",
       "      <td>2018-06-23 08:28:50.681065+00</td>\n",
       "      <td>2018-06-23 08:28:52.439542+00</td>\n",
       "    </tr>\n",
       "    <tr>\n",
       "      <th>1</th>\n",
       "      <td>a387ab916f402cb3fbfffd29f68fd0ce</td>\n",
       "      <td>1</td>\n",
       "      <td>1</td>\n",
       "      <td>done</td>\n",
       "      <td>2018-06-20 14:25:21.783762+00</td>\n",
       "      <td>2018-06-20 15:45:07.717209+00</td>\n",
       "    </tr>\n",
       "  </tbody>\n",
       "</table>\n",
       "</div>"
      ],
      "text/plain": [
       "                        progress_id  module_number  lesson_number status  \\\n",
       "0  a387ab916f402cb3fbfffd29f68fd0ce              2              4   done   \n",
       "1  a387ab916f402cb3fbfffd29f68fd0ce              1              1   done   \n",
       "\n",
       "                      start_date                    finish_date  \n",
       "0  2018-06-23 08:28:50.681065+00  2018-06-23 08:28:52.439542+00  \n",
       "1  2018-06-20 14:25:21.783762+00  2018-06-20 15:45:07.717209+00  "
      ]
     },
     "execution_count": 3,
     "metadata": {},
     "output_type": "execute_result"
    }
   ],
   "source": [
    "progress_phases_df = pd.read_csv('./Data/progress_phases.csv')  #  (350677, 6)\n",
    "progress_phases_df.head(2)"
   ]
  },
  {
   "cell_type": "code",
   "execution_count": 4,
   "metadata": {},
   "outputs": [
    {
     "data": {
      "text/html": [
       "<div>\n",
       "<style scoped>\n",
       "    .dataframe tbody tr th:only-of-type {\n",
       "        vertical-align: middle;\n",
       "    }\n",
       "\n",
       "    .dataframe tbody tr th {\n",
       "        vertical-align: top;\n",
       "    }\n",
       "\n",
       "    .dataframe thead th {\n",
       "        text-align: right;\n",
       "    }\n",
       "</style>\n",
       "<table border=\"1\" class=\"dataframe\">\n",
       "  <thead>\n",
       "    <tr style=\"text-align: right;\">\n",
       "      <th></th>\n",
       "      <th>progress_id</th>\n",
       "      <th>module_number</th>\n",
       "      <th>lesson_number</th>\n",
       "      <th>status</th>\n",
       "      <th>start_date</th>\n",
       "      <th>finish_date</th>\n",
       "      <th>student_id</th>\n",
       "      <th>course_id</th>\n",
       "    </tr>\n",
       "  </thead>\n",
       "  <tbody>\n",
       "    <tr>\n",
       "      <th>0</th>\n",
       "      <td>a387ab916f402cb3fbfffd29f68fd0ce</td>\n",
       "      <td>2</td>\n",
       "      <td>4</td>\n",
       "      <td>done</td>\n",
       "      <td>2018-06-23 08:28:50.681065+00</td>\n",
       "      <td>2018-06-23 08:28:52.439542+00</td>\n",
       "      <td>768c2987a744c51ce64a5993a2a94eaf</td>\n",
       "      <td>c9fcb746d51e41bc5a217002d081454b</td>\n",
       "    </tr>\n",
       "    <tr>\n",
       "      <th>1</th>\n",
       "      <td>a387ab916f402cb3fbfffd29f68fd0ce</td>\n",
       "      <td>1</td>\n",
       "      <td>1</td>\n",
       "      <td>done</td>\n",
       "      <td>2018-06-20 14:25:21.783762+00</td>\n",
       "      <td>2018-06-20 15:45:07.717209+00</td>\n",
       "      <td>768c2987a744c51ce64a5993a2a94eaf</td>\n",
       "      <td>c9fcb746d51e41bc5a217002d081454b</td>\n",
       "    </tr>\n",
       "  </tbody>\n",
       "</table>\n",
       "</div>"
      ],
      "text/plain": [
       "                        progress_id  module_number  lesson_number status  \\\n",
       "0  a387ab916f402cb3fbfffd29f68fd0ce              2              4   done   \n",
       "1  a387ab916f402cb3fbfffd29f68fd0ce              1              1   done   \n",
       "\n",
       "                      start_date                    finish_date  \\\n",
       "0  2018-06-23 08:28:50.681065+00  2018-06-23 08:28:52.439542+00   \n",
       "1  2018-06-20 14:25:21.783762+00  2018-06-20 15:45:07.717209+00   \n",
       "\n",
       "                         student_id                         course_id  \n",
       "0  768c2987a744c51ce64a5993a2a94eaf  c9fcb746d51e41bc5a217002d081454b  \n",
       "1  768c2987a744c51ce64a5993a2a94eaf  c9fcb746d51e41bc5a217002d081454b  "
      ]
     },
     "execution_count": 4,
     "metadata": {},
     "output_type": "execute_result"
    }
   ],
   "source": [
    "main_df = progress_phases_df.merge(progresses_df, how='inner', on='progress_id') # объединим = (350677, 8)\n",
    "main_df.head(2)"
   ]
  },
  {
   "cell_type": "code",
   "execution_count": 5,
   "metadata": {},
   "outputs": [
    {
     "data": {
      "text/html": [
       "<div>\n",
       "<style scoped>\n",
       "    .dataframe tbody tr th:only-of-type {\n",
       "        vertical-align: middle;\n",
       "    }\n",
       "\n",
       "    .dataframe tbody tr th {\n",
       "        vertical-align: top;\n",
       "    }\n",
       "\n",
       "    .dataframe thead th {\n",
       "        text-align: right;\n",
       "    }\n",
       "</style>\n",
       "<table border=\"1\" class=\"dataframe\">\n",
       "  <thead>\n",
       "    <tr style=\"text-align: right;\">\n",
       "      <th></th>\n",
       "      <th>course_id</th>\n",
       "      <th>course_title</th>\n",
       "      <th>course_field</th>\n",
       "    </tr>\n",
       "  </thead>\n",
       "  <tbody>\n",
       "    <tr>\n",
       "      <th>0</th>\n",
       "      <td>943306102e5b067d08a29094f37b8193</td>\n",
       "      <td>Java-разработчик c нуля</td>\n",
       "      <td>Development</td>\n",
       "    </tr>\n",
       "    <tr>\n",
       "      <th>1</th>\n",
       "      <td>17013cd19d25cb3f28dc1b2683721bb9</td>\n",
       "      <td>Веб-дизайн Базовый</td>\n",
       "      <td>Design</td>\n",
       "    </tr>\n",
       "  </tbody>\n",
       "</table>\n",
       "</div>"
      ],
      "text/plain": [
       "                          course_id             course_title course_field\n",
       "0  943306102e5b067d08a29094f37b8193  Java-разработчик c нуля  Development\n",
       "1  17013cd19d25cb3f28dc1b2683721bb9       Веб-дизайн Базовый       Design"
      ]
     },
     "execution_count": 5,
     "metadata": {},
     "output_type": "execute_result"
    }
   ],
   "source": [
    "courses_df = pd.read_csv('./Data/courses.csv', index_col=0)  #  (15, 3)\n",
    "courses_df.rename(columns={'id' : 'course_id', 'title' : 'course_title', 'field' : 'course_field'}, inplace=True)\n",
    "courses_df.head(2)"
   ]
  },
  {
   "cell_type": "code",
   "execution_count": 6,
   "metadata": {},
   "outputs": [
    {
     "name": "stdout",
     "output_type": "stream",
     "text": [
      "(350677, 10)\n"
     ]
    },
    {
     "data": {
      "text/html": [
       "<div>\n",
       "<style scoped>\n",
       "    .dataframe tbody tr th:only-of-type {\n",
       "        vertical-align: middle;\n",
       "    }\n",
       "\n",
       "    .dataframe tbody tr th {\n",
       "        vertical-align: top;\n",
       "    }\n",
       "\n",
       "    .dataframe thead th {\n",
       "        text-align: right;\n",
       "    }\n",
       "</style>\n",
       "<table border=\"1\" class=\"dataframe\">\n",
       "  <thead>\n",
       "    <tr style=\"text-align: right;\">\n",
       "      <th></th>\n",
       "      <th>progress_id</th>\n",
       "      <th>module_number</th>\n",
       "      <th>lesson_number</th>\n",
       "      <th>status</th>\n",
       "      <th>start_date</th>\n",
       "      <th>finish_date</th>\n",
       "      <th>student_id</th>\n",
       "      <th>course_id</th>\n",
       "      <th>course_title</th>\n",
       "      <th>course_field</th>\n",
       "    </tr>\n",
       "  </thead>\n",
       "  <tbody>\n",
       "    <tr>\n",
       "      <th>0</th>\n",
       "      <td>a387ab916f402cb3fbfffd29f68fd0ce</td>\n",
       "      <td>2</td>\n",
       "      <td>4</td>\n",
       "      <td>done</td>\n",
       "      <td>2018-06-23 08:28:50.681065+00</td>\n",
       "      <td>2018-06-23 08:28:52.439542+00</td>\n",
       "      <td>768c2987a744c51ce64a5993a2a94eaf</td>\n",
       "      <td>c9fcb746d51e41bc5a217002d081454b</td>\n",
       "      <td>Веб-дизайн PRO 2.0</td>\n",
       "      <td>Design</td>\n",
       "    </tr>\n",
       "    <tr>\n",
       "      <th>1</th>\n",
       "      <td>a387ab916f402cb3fbfffd29f68fd0ce</td>\n",
       "      <td>1</td>\n",
       "      <td>1</td>\n",
       "      <td>done</td>\n",
       "      <td>2018-06-20 14:25:21.783762+00</td>\n",
       "      <td>2018-06-20 15:45:07.717209+00</td>\n",
       "      <td>768c2987a744c51ce64a5993a2a94eaf</td>\n",
       "      <td>c9fcb746d51e41bc5a217002d081454b</td>\n",
       "      <td>Веб-дизайн PRO 2.0</td>\n",
       "      <td>Design</td>\n",
       "    </tr>\n",
       "  </tbody>\n",
       "</table>\n",
       "</div>"
      ],
      "text/plain": [
       "                        progress_id  module_number  lesson_number status  \\\n",
       "0  a387ab916f402cb3fbfffd29f68fd0ce              2              4   done   \n",
       "1  a387ab916f402cb3fbfffd29f68fd0ce              1              1   done   \n",
       "\n",
       "                      start_date                    finish_date  \\\n",
       "0  2018-06-23 08:28:50.681065+00  2018-06-23 08:28:52.439542+00   \n",
       "1  2018-06-20 14:25:21.783762+00  2018-06-20 15:45:07.717209+00   \n",
       "\n",
       "                         student_id                         course_id  \\\n",
       "0  768c2987a744c51ce64a5993a2a94eaf  c9fcb746d51e41bc5a217002d081454b   \n",
       "1  768c2987a744c51ce64a5993a2a94eaf  c9fcb746d51e41bc5a217002d081454b   \n",
       "\n",
       "         course_title course_field  \n",
       "0  Веб-дизайн PRO 2.0       Design  \n",
       "1  Веб-дизайн PRO 2.0       Design  "
      ]
     },
     "execution_count": 6,
     "metadata": {},
     "output_type": "execute_result"
    }
   ],
   "source": [
    "main_df = main_df.merge(courses_df, on='course_id') # объединим\n",
    "print(main_df.shape)\n",
    "main_df.head(2)"
   ]
  },
  {
   "cell_type": "code",
   "execution_count": 7,
   "metadata": {},
   "outputs": [
    {
     "data": {
      "text/html": [
       "<div>\n",
       "<style scoped>\n",
       "    .dataframe tbody tr th:only-of-type {\n",
       "        vertical-align: middle;\n",
       "    }\n",
       "\n",
       "    .dataframe tbody tr th {\n",
       "        vertical-align: top;\n",
       "    }\n",
       "\n",
       "    .dataframe thead th {\n",
       "        text-align: right;\n",
       "    }\n",
       "</style>\n",
       "<table border=\"1\" class=\"dataframe\">\n",
       "  <thead>\n",
       "    <tr style=\"text-align: right;\">\n",
       "      <th></th>\n",
       "      <th>course_id</th>\n",
       "      <th>module_number</th>\n",
       "      <th>module_title</th>\n",
       "      <th>lesson_number</th>\n",
       "      <th>lesson_title</th>\n",
       "      <th>lesson_token</th>\n",
       "      <th>is_video</th>\n",
       "      <th>is_homework</th>\n",
       "    </tr>\n",
       "  </thead>\n",
       "  <tbody>\n",
       "    <tr>\n",
       "      <th>0</th>\n",
       "      <td>04ba6d0b40670c43a209141fa01fa784</td>\n",
       "      <td>1</td>\n",
       "      <td>Введение в Motion Design. Тренды, разновидност...</td>\n",
       "      <td>1</td>\n",
       "      <td>Знакомство</td>\n",
       "      <td>aa344de3-1191-4e69-b485-61823118f71c</td>\n",
       "      <td>True</td>\n",
       "      <td>False</td>\n",
       "    </tr>\n",
       "    <tr>\n",
       "      <th>1</th>\n",
       "      <td>04ba6d0b40670c43a209141fa01fa784</td>\n",
       "      <td>1</td>\n",
       "      <td>Введение в Motion Design. Тренды, разновидност...</td>\n",
       "      <td>2</td>\n",
       "      <td>Введение в Motion Design. Тренды, разновидност...</td>\n",
       "      <td>246c8429-dd18-4f3a-a9fb-d3c07e7d6912</td>\n",
       "      <td>True</td>\n",
       "      <td>False</td>\n",
       "    </tr>\n",
       "  </tbody>\n",
       "</table>\n",
       "</div>"
      ],
      "text/plain": [
       "                          course_id  module_number  \\\n",
       "0  04ba6d0b40670c43a209141fa01fa784              1   \n",
       "1  04ba6d0b40670c43a209141fa01fa784              1   \n",
       "\n",
       "                                        module_title  lesson_number  \\\n",
       "0  Введение в Motion Design. Тренды, разновидност...              1   \n",
       "1  Введение в Motion Design. Тренды, разновидност...              2   \n",
       "\n",
       "                                        lesson_title  \\\n",
       "0                                         Знакомство   \n",
       "1  Введение в Motion Design. Тренды, разновидност...   \n",
       "\n",
       "                           lesson_token  is_video  is_homework  \n",
       "0  aa344de3-1191-4e69-b485-61823118f71c      True        False  \n",
       "1  246c8429-dd18-4f3a-a9fb-d3c07e7d6912      True        False  "
      ]
     },
     "execution_count": 7,
     "metadata": {},
     "output_type": "execute_result"
    }
   ],
   "source": [
    "course_contents_df = pd.read_csv('./Data/course_contents.csv')  #  (1201, 8)\n",
    "course_contents_df.head(2)  "
   ]
  },
  {
   "cell_type": "code",
   "execution_count": 8,
   "metadata": {},
   "outputs": [
    {
     "name": "stdout",
     "output_type": "stream",
     "text": [
      "(350677, 15)\n"
     ]
    },
    {
     "data": {
      "text/html": [
       "<div>\n",
       "<style scoped>\n",
       "    .dataframe tbody tr th:only-of-type {\n",
       "        vertical-align: middle;\n",
       "    }\n",
       "\n",
       "    .dataframe tbody tr th {\n",
       "        vertical-align: top;\n",
       "    }\n",
       "\n",
       "    .dataframe thead th {\n",
       "        text-align: right;\n",
       "    }\n",
       "</style>\n",
       "<table border=\"1\" class=\"dataframe\">\n",
       "  <thead>\n",
       "    <tr style=\"text-align: right;\">\n",
       "      <th></th>\n",
       "      <th>progress_id</th>\n",
       "      <th>module_number</th>\n",
       "      <th>lesson_number</th>\n",
       "      <th>status</th>\n",
       "      <th>start_date</th>\n",
       "      <th>finish_date</th>\n",
       "      <th>student_id</th>\n",
       "      <th>course_id</th>\n",
       "      <th>course_title</th>\n",
       "      <th>course_field</th>\n",
       "      <th>module_title</th>\n",
       "      <th>lesson_title</th>\n",
       "      <th>lesson_token</th>\n",
       "      <th>is_video</th>\n",
       "      <th>is_homework</th>\n",
       "    </tr>\n",
       "  </thead>\n",
       "  <tbody>\n",
       "    <tr>\n",
       "      <th>0</th>\n",
       "      <td>a387ab916f402cb3fbfffd29f68fd0ce</td>\n",
       "      <td>2</td>\n",
       "      <td>4</td>\n",
       "      <td>done</td>\n",
       "      <td>2018-06-23 08:28:50.681065+00</td>\n",
       "      <td>2018-06-23 08:28:52.439542+00</td>\n",
       "      <td>768c2987a744c51ce64a5993a2a94eaf</td>\n",
       "      <td>c9fcb746d51e41bc5a217002d081454b</td>\n",
       "      <td>Веб-дизайн PRO 2.0</td>\n",
       "      <td>Design</td>\n",
       "      <td>Концептуальный дизайн</td>\n",
       "      <td>Практика — мокапы</td>\n",
       "      <td>7df8adef-1259-4b72-9bf2-353c73389d06</td>\n",
       "      <td>True</td>\n",
       "      <td>False</td>\n",
       "    </tr>\n",
       "    <tr>\n",
       "      <th>1</th>\n",
       "      <td>3b9dce04f32da32763124602557f92a3</td>\n",
       "      <td>2</td>\n",
       "      <td>4</td>\n",
       "      <td>done</td>\n",
       "      <td>2019-03-18 14:23:17.328374+00</td>\n",
       "      <td>2019-03-18 14:54:50.979612+00</td>\n",
       "      <td>03151bc73bdb29fe1be1443c6d83e22f</td>\n",
       "      <td>c9fcb746d51e41bc5a217002d081454b</td>\n",
       "      <td>Веб-дизайн PRO 2.0</td>\n",
       "      <td>Design</td>\n",
       "      <td>Концептуальный дизайн</td>\n",
       "      <td>Практика — мокапы</td>\n",
       "      <td>7df8adef-1259-4b72-9bf2-353c73389d06</td>\n",
       "      <td>True</td>\n",
       "      <td>False</td>\n",
       "    </tr>\n",
       "  </tbody>\n",
       "</table>\n",
       "</div>"
      ],
      "text/plain": [
       "                        progress_id  module_number  lesson_number status  \\\n",
       "0  a387ab916f402cb3fbfffd29f68fd0ce              2              4   done   \n",
       "1  3b9dce04f32da32763124602557f92a3              2              4   done   \n",
       "\n",
       "                      start_date                    finish_date  \\\n",
       "0  2018-06-23 08:28:50.681065+00  2018-06-23 08:28:52.439542+00   \n",
       "1  2019-03-18 14:23:17.328374+00  2019-03-18 14:54:50.979612+00   \n",
       "\n",
       "                         student_id                         course_id  \\\n",
       "0  768c2987a744c51ce64a5993a2a94eaf  c9fcb746d51e41bc5a217002d081454b   \n",
       "1  03151bc73bdb29fe1be1443c6d83e22f  c9fcb746d51e41bc5a217002d081454b   \n",
       "\n",
       "         course_title course_field           module_title       lesson_title  \\\n",
       "0  Веб-дизайн PRO 2.0       Design  Концептуальный дизайн  Практика — мокапы   \n",
       "1  Веб-дизайн PRO 2.0       Design  Концептуальный дизайн  Практика — мокапы   \n",
       "\n",
       "                           lesson_token  is_video  is_homework  \n",
       "0  7df8adef-1259-4b72-9bf2-353c73389d06      True        False  \n",
       "1  7df8adef-1259-4b72-9bf2-353c73389d06      True        False  "
      ]
     },
     "execution_count": 8,
     "metadata": {},
     "output_type": "execute_result"
    }
   ],
   "source": [
    "main_df = main_df.merge(course_contents_df, on=['course_id', 'module_number', 'lesson_number']) # объединим по нескольким полям\n",
    "print(main_df.shape)\n",
    "main_df.head(2)"
   ]
  },
  {
   "cell_type": "code",
   "execution_count": 9,
   "metadata": {},
   "outputs": [],
   "source": [
    "main_df.to_csv('./Data/main.csv', index=False) # сохраним датасет"
   ]
  },
  {
   "cell_type": "markdown",
   "metadata": {},
   "source": [
    "### общее количество курсов в датасете"
   ]
  },
  {
   "cell_type": "code",
   "execution_count": 10,
   "metadata": {},
   "outputs": [
    {
     "data": {
      "text/plain": [
       "15"
      ]
     },
     "execution_count": 10,
     "metadata": {},
     "output_type": "execute_result"
    }
   ],
   "source": [
    "main_df.course_title.nunique()"
   ]
  },
  {
   "cell_type": "markdown",
   "metadata": {},
   "source": [
    "### количество модулей на каждом курсе"
   ]
  },
  {
   "cell_type": "code",
   "execution_count": 11,
   "metadata": {},
   "outputs": [
    {
     "data": {
      "text/plain": [
       "course_title\n",
       "PHP-разработчик с 0 до PRO. Часть 1     8\n",
       "Веб-вёрстка для начинающих 2.0          8\n",
       "Excel Базовый                           9\n",
       "Java-разработчик c нуля                 9\n",
       "SMM-маркетолог от А до Я               11\n",
       "Java-разработчик                       17\n",
       "Веб-дизайн PRO 2.0                     17\n",
       "Веб-дизайн Базовый                     17\n",
       "Руководитель digital-проектов          17\n",
       "JavaScript с нуля                      18\n",
       "Интернет-маркетолог от Ingate          18\n",
       "Веб-дизайн с нуля 2.0                  19\n",
       "UX-дизайн                              20\n",
       "Веб-разработчик                        20\n",
       "Анимация интерфейсов                   21\n",
       "Name: module_number, dtype: int64"
      ]
     },
     "execution_count": 11,
     "metadata": {},
     "output_type": "execute_result"
    }
   ],
   "source": [
    "main_df.groupby('course_title').module_number.max().sort_values()"
   ]
  },
  {
   "cell_type": "markdown",
   "metadata": {},
   "source": [
    "### количество уроков в каждом модуле на каждом курсе"
   ]
  },
  {
   "cell_type": "code",
   "execution_count": 12,
   "metadata": {},
   "outputs": [
    {
     "data": {
      "text/plain": [
       "course_title                   module_title                                       \n",
       "Excel Базовый                   Визуализация данных Excel                              5\n",
       "                               Основной функционал Excel                              11\n",
       "                               Основной функционал Excel (продолжение)                 7\n",
       "                               Сводные таблицы Excel                                   5\n",
       "                               Формулы и функции Excel. Более сложные формулы          5\n",
       "                                                                                      ..\n",
       "Руководитель digital-проектов  Решение факапов. Lean/TOC. Обзор.                       5\n",
       "                               Требовательность digital-продюсера                      4\n",
       "                               Управление временем                                     4\n",
       "                               Управление дизайнерами. Разработка дизайна по scrum     7\n",
       "                               Экологичный путь менеджера                              4\n",
       "Name: lesson_number, Length: 229, dtype: int64"
      ]
     },
     "execution_count": 12,
     "metadata": {},
     "output_type": "execute_result"
    }
   ],
   "source": [
    "main_df.groupby(['course_title', 'module_title']).lesson_number.max()"
   ]
  },
  {
   "cell_type": "markdown",
   "metadata": {},
   "source": [
    "### медианное количество уроков в модуле на каждом курсе"
   ]
  },
  {
   "cell_type": "code",
   "execution_count": 13,
   "metadata": {},
   "outputs": [
    {
     "data": {
      "text/plain": [
       "course_title\n",
       "Excel Базовый                           5.0\n",
       "Java-разработчик                        7.0\n",
       "Java-разработчик c нуля                10.0\n",
       "JavaScript с нуля                       7.0\n",
       "PHP-разработчик с 0 до PRO. Часть 1     4.0\n",
       "SMM-маркетолог от А до Я                6.0\n",
       "UX-дизайн                               3.5\n",
       "Анимация интерфейсов                    3.0\n",
       "Веб-вёрстка для начинающих 2.0          7.0\n",
       "Веб-дизайн PRO 2.0                      5.0\n",
       "Веб-дизайн Базовый                      3.0\n",
       "Веб-дизайн с нуля 2.0                   4.0\n",
       "Веб-разработчик                         2.0\n",
       "Интернет-маркетолог от Ingate           6.5\n",
       "Руководитель digital-проектов           5.0\n",
       "Name: lesson_title, dtype: float64"
      ]
     },
     "execution_count": 13,
     "metadata": {},
     "output_type": "execute_result"
    }
   ],
   "source": [
    "main_df.groupby(['course_title', 'module_title']).lesson_title.nunique().groupby(level=0).median()"
   ]
  },
  {
   "cell_type": "markdown",
   "metadata": {},
   "source": [
    "### количество учеников на каждом курсе"
   ]
  },
  {
   "cell_type": "code",
   "execution_count": 14,
   "metadata": {},
   "outputs": [
    {
     "data": {
      "text/plain": [
       "course_title\n",
       "Excel Базовый                           782\n",
       "Java-разработчик                        763\n",
       "Java-разработчик c нуля                 581\n",
       "JavaScript с нуля                       966\n",
       "PHP-разработчик с 0 до PRO. Часть 1     854\n",
       "SMM-маркетолог от А до Я                506\n",
       "UX-дизайн                              1151\n",
       "Анимация интерфейсов                    598\n",
       "Веб-вёрстка для начинающих 2.0         2004\n",
       "Веб-дизайн PRO 2.0                     1711\n",
       "Веб-дизайн Базовый                      518\n",
       "Веб-дизайн с нуля 2.0                  2014\n",
       "Веб-разработчик                         628\n",
       "Интернет-маркетолог от Ingate          2168\n",
       "Руководитель digital-проектов           685\n",
       "Name: student_id, dtype: int64"
      ]
     },
     "execution_count": 14,
     "metadata": {},
     "output_type": "execute_result"
    }
   ],
   "source": [
    "main_df.groupby('course_title').student_id.nunique()"
   ]
  },
  {
   "cell_type": "markdown",
   "metadata": {},
   "source": [
    "### минимальный, максимальный, средний, медианный возраст студентов"
   ]
  },
  {
   "cell_type": "code",
   "execution_count": 15,
   "metadata": {},
   "outputs": [
    {
     "data": {
      "text/html": [
       "<div>\n",
       "<style scoped>\n",
       "    .dataframe tbody tr th:only-of-type {\n",
       "        vertical-align: middle;\n",
       "    }\n",
       "\n",
       "    .dataframe tbody tr th {\n",
       "        vertical-align: top;\n",
       "    }\n",
       "\n",
       "    .dataframe thead th {\n",
       "        text-align: right;\n",
       "    }\n",
       "</style>\n",
       "<table border=\"1\" class=\"dataframe\">\n",
       "  <thead>\n",
       "    <tr style=\"text-align: right;\">\n",
       "      <th></th>\n",
       "      <th>students_id</th>\n",
       "      <th>city</th>\n",
       "      <th>birthday</th>\n",
       "    </tr>\n",
       "  </thead>\n",
       "  <tbody>\n",
       "    <tr>\n",
       "      <th>0</th>\n",
       "      <td>35e8a1938b9a33d5e45c8f4451c4309a</td>\n",
       "      <td>NaN</td>\n",
       "      <td>NaN</td>\n",
       "    </tr>\n",
       "    <tr>\n",
       "      <th>1</th>\n",
       "      <td>6c3e52be632fc50de9640147e4017dcd</td>\n",
       "      <td>Москва</td>\n",
       "      <td>1979-10-23</td>\n",
       "    </tr>\n",
       "    <tr>\n",
       "      <th>2</th>\n",
       "      <td>2033122d7c9b24b36eebc468d5259642</td>\n",
       "      <td>NaN</td>\n",
       "      <td>NaN</td>\n",
       "    </tr>\n",
       "  </tbody>\n",
       "</table>\n",
       "</div>"
      ],
      "text/plain": [
       "                        students_id    city    birthday\n",
       "0  35e8a1938b9a33d5e45c8f4451c4309a     NaN         NaN\n",
       "1  6c3e52be632fc50de9640147e4017dcd  Москва  1979-10-23\n",
       "2  2033122d7c9b24b36eebc468d5259642     NaN         NaN"
      ]
     },
     "execution_count": 15,
     "metadata": {},
     "output_type": "execute_result"
    }
   ],
   "source": [
    "students_df = pd.read_csv('./Data/students.csv')  #  (43830, 3) \n",
    "students_df = students_df.drop('id_', axis=1)\n",
    "students_df.rename(columns={'id' : 'students_id'}, inplace=True)\n",
    "students_df.head(3)    "
   ]
  },
  {
   "cell_type": "code",
   "execution_count": 16,
   "metadata": {},
   "outputs": [],
   "source": [
    "students_df.dropna(subset=['birthday'], inplace=True) # удалим NaN  birthday     25499 non-null  object"
   ]
  },
  {
   "cell_type": "markdown",
   "metadata": {},
   "source": [
    "###  Вариант 1  - просто через цифры из строки"
   ]
  },
  {
   "cell_type": "code",
   "execution_count": 17,
   "metadata": {},
   "outputs": [
    {
     "data": {
      "text/html": [
       "<div>\n",
       "<style scoped>\n",
       "    .dataframe tbody tr th:only-of-type {\n",
       "        vertical-align: middle;\n",
       "    }\n",
       "\n",
       "    .dataframe tbody tr th {\n",
       "        vertical-align: top;\n",
       "    }\n",
       "\n",
       "    .dataframe thead th {\n",
       "        text-align: right;\n",
       "    }\n",
       "</style>\n",
       "<table border=\"1\" class=\"dataframe\">\n",
       "  <thead>\n",
       "    <tr style=\"text-align: right;\">\n",
       "      <th></th>\n",
       "      <th>students_id</th>\n",
       "      <th>city</th>\n",
       "      <th>birthday</th>\n",
       "      <th>year</th>\n",
       "    </tr>\n",
       "  </thead>\n",
       "  <tbody>\n",
       "    <tr>\n",
       "      <th>1</th>\n",
       "      <td>6c3e52be632fc50de9640147e4017dcd</td>\n",
       "      <td>Москва</td>\n",
       "      <td>1979-10-23</td>\n",
       "      <td>1979</td>\n",
       "    </tr>\n",
       "    <tr>\n",
       "      <th>7</th>\n",
       "      <td>35a36d90b745992b59085c8d54a072e7</td>\n",
       "      <td>Красноярск</td>\n",
       "      <td>1991-08-15</td>\n",
       "      <td>1991</td>\n",
       "    </tr>\n",
       "  </tbody>\n",
       "</table>\n",
       "</div>"
      ],
      "text/plain": [
       "                        students_id        city    birthday  year\n",
       "1  6c3e52be632fc50de9640147e4017dcd      Москва  1979-10-23  1979\n",
       "7  35a36d90b745992b59085c8d54a072e7  Красноярск  1991-08-15  1991"
      ]
     },
     "execution_count": 17,
     "metadata": {},
     "output_type": "execute_result"
    }
   ],
   "source": [
    "students_df['year'] = students_df['birthday'].str[:4].astype(int) # выбрали только год рождения и преобразовали к целому\n",
    "students_df.head(2)  "
   ]
  },
  {
   "cell_type": "code",
   "execution_count": 18,
   "metadata": {},
   "outputs": [
    {
     "data": {
      "text/html": [
       "<div>\n",
       "<style scoped>\n",
       "    .dataframe tbody tr th:only-of-type {\n",
       "        vertical-align: middle;\n",
       "    }\n",
       "\n",
       "    .dataframe tbody tr th {\n",
       "        vertical-align: top;\n",
       "    }\n",
       "\n",
       "    .dataframe thead th {\n",
       "        text-align: right;\n",
       "    }\n",
       "</style>\n",
       "<table border=\"1\" class=\"dataframe\">\n",
       "  <thead>\n",
       "    <tr style=\"text-align: right;\">\n",
       "      <th></th>\n",
       "      <th>students_id</th>\n",
       "      <th>city</th>\n",
       "      <th>birthday</th>\n",
       "      <th>year</th>\n",
       "      <th>age</th>\n",
       "    </tr>\n",
       "  </thead>\n",
       "  <tbody>\n",
       "    <tr>\n",
       "      <th>1</th>\n",
       "      <td>6c3e52be632fc50de9640147e4017dcd</td>\n",
       "      <td>Москва</td>\n",
       "      <td>1979-10-23</td>\n",
       "      <td>1979</td>\n",
       "      <td>42</td>\n",
       "    </tr>\n",
       "    <tr>\n",
       "      <th>7</th>\n",
       "      <td>35a36d90b745992b59085c8d54a072e7</td>\n",
       "      <td>Красноярск</td>\n",
       "      <td>1991-08-15</td>\n",
       "      <td>1991</td>\n",
       "      <td>30</td>\n",
       "    </tr>\n",
       "  </tbody>\n",
       "</table>\n",
       "</div>"
      ],
      "text/plain": [
       "                        students_id        city    birthday  year  age\n",
       "1  6c3e52be632fc50de9640147e4017dcd      Москва  1979-10-23  1979   42\n",
       "7  35a36d90b745992b59085c8d54a072e7  Красноярск  1991-08-15  1991   30"
      ]
     },
     "execution_count": 18,
     "metadata": {},
     "output_type": "execute_result"
    }
   ],
   "source": [
    "students_df['age'] = 2021 - students_df['year']  # вычислили возраст, но приблизительно\n",
    "students_df.head(2)  "
   ]
  },
  {
   "cell_type": "code",
   "execution_count": 19,
   "metadata": {},
   "outputs": [],
   "source": [
    "students_df = students_df[(students_df['age'] >= 18) & (students_df['age'] <= 65)]"
   ]
  },
  {
   "cell_type": "code",
   "execution_count": 20,
   "metadata": {},
   "outputs": [
    {
     "data": {
      "text/plain": [
       "min       18.000000\n",
       "max       65.000000\n",
       "mean      30.844202\n",
       "median    30.000000\n",
       "Name: age, dtype: float64"
      ]
     },
     "execution_count": 20,
     "metadata": {},
     "output_type": "execute_result"
    }
   ],
   "source": [
    "students_df.age.agg(['min', 'max', 'mean', 'median'])"
   ]
  },
  {
   "cell_type": "markdown",
   "metadata": {},
   "source": [
    "### Вариант 2  - через datetime()"
   ]
  },
  {
   "cell_type": "code",
   "execution_count": 21,
   "metadata": {},
   "outputs": [
    {
     "data": {
      "text/html": [
       "<div>\n",
       "<style scoped>\n",
       "    .dataframe tbody tr th:only-of-type {\n",
       "        vertical-align: middle;\n",
       "    }\n",
       "\n",
       "    .dataframe tbody tr th {\n",
       "        vertical-align: top;\n",
       "    }\n",
       "\n",
       "    .dataframe thead th {\n",
       "        text-align: right;\n",
       "    }\n",
       "</style>\n",
       "<table border=\"1\" class=\"dataframe\">\n",
       "  <thead>\n",
       "    <tr style=\"text-align: right;\">\n",
       "      <th></th>\n",
       "      <th>student_id</th>\n",
       "      <th>city</th>\n",
       "      <th>birthday</th>\n",
       "    </tr>\n",
       "  </thead>\n",
       "  <tbody>\n",
       "    <tr>\n",
       "      <th>1</th>\n",
       "      <td>6c3e52be632fc50de9640147e4017dcd</td>\n",
       "      <td>Москва</td>\n",
       "      <td>1979-10-23</td>\n",
       "    </tr>\n",
       "    <tr>\n",
       "      <th>7</th>\n",
       "      <td>35a36d90b745992b59085c8d54a072e7</td>\n",
       "      <td>Красноярск</td>\n",
       "      <td>1991-08-15</td>\n",
       "    </tr>\n",
       "  </tbody>\n",
       "</table>\n",
       "</div>"
      ],
      "text/plain": [
       "                         student_id        city    birthday\n",
       "1  6c3e52be632fc50de9640147e4017dcd      Москва  1979-10-23\n",
       "7  35a36d90b745992b59085c8d54a072e7  Красноярск  1991-08-15"
      ]
     },
     "execution_count": 21,
     "metadata": {},
     "output_type": "execute_result"
    }
   ],
   "source": [
    "students_df = pd.read_csv('./Data/students.csv')  #  (43830, 3)  \n",
    "students_df = students_df.drop('id_', axis=1)\n",
    "students_df.rename(columns={'id' : 'student_id'}, inplace=True)\n",
    "students_df.dropna(subset=['birthday'], inplace=True) # удалим NaN \n",
    "students_df.head(2)   "
   ]
  },
  {
   "cell_type": "code",
   "execution_count": 22,
   "metadata": {},
   "outputs": [],
   "source": [
    "students_df['birthday'] = pd.to_datetime(students_df['birthday'], errors='coerce' ) \n",
    "\n",
    "# подавление ошибок надо, иначе - OutOfBoundsDatetime: Out of bounds nanosecond timestamp: 235-05-31 00:00:00\n",
    "# но  student_id  25499 non-null  object, а  birthday    25490 non-null  datetime64[ns]"
   ]
  },
  {
   "cell_type": "code",
   "execution_count": 23,
   "metadata": {},
   "outputs": [],
   "source": [
    "students_df.dropna(subset=['birthday'], inplace=True)"
   ]
  },
  {
   "cell_type": "code",
   "execution_count": 24,
   "metadata": {},
   "outputs": [],
   "source": [
    "from datetime import datetime, timedelta"
   ]
  },
  {
   "cell_type": "code",
   "execution_count": 25,
   "metadata": {},
   "outputs": [],
   "source": [
    "now = datetime.now() # возьмем сегодняшнюю дату"
   ]
  },
  {
   "cell_type": "code",
   "execution_count": 26,
   "metadata": {},
   "outputs": [
    {
     "data": {
      "text/html": [
       "<div>\n",
       "<style scoped>\n",
       "    .dataframe tbody tr th:only-of-type {\n",
       "        vertical-align: middle;\n",
       "    }\n",
       "\n",
       "    .dataframe tbody tr th {\n",
       "        vertical-align: top;\n",
       "    }\n",
       "\n",
       "    .dataframe thead th {\n",
       "        text-align: right;\n",
       "    }\n",
       "</style>\n",
       "<table border=\"1\" class=\"dataframe\">\n",
       "  <thead>\n",
       "    <tr style=\"text-align: right;\">\n",
       "      <th></th>\n",
       "      <th>student_id</th>\n",
       "      <th>city</th>\n",
       "      <th>birthday</th>\n",
       "      <th>age</th>\n",
       "    </tr>\n",
       "  </thead>\n",
       "  <tbody>\n",
       "    <tr>\n",
       "      <th>1</th>\n",
       "      <td>6c3e52be632fc50de9640147e4017dcd</td>\n",
       "      <td>Москва</td>\n",
       "      <td>1979-10-23</td>\n",
       "      <td>43</td>\n",
       "    </tr>\n",
       "    <tr>\n",
       "      <th>7</th>\n",
       "      <td>35a36d90b745992b59085c8d54a072e7</td>\n",
       "      <td>Красноярск</td>\n",
       "      <td>1991-08-15</td>\n",
       "      <td>32</td>\n",
       "    </tr>\n",
       "  </tbody>\n",
       "</table>\n",
       "</div>"
      ],
      "text/plain": [
       "                         student_id        city   birthday  age\n",
       "1  6c3e52be632fc50de9640147e4017dcd      Москва 1979-10-23   43\n",
       "7  35a36d90b745992b59085c8d54a072e7  Красноярск 1991-08-15   32"
      ]
     },
     "execution_count": 26,
     "metadata": {},
     "output_type": "execute_result"
    }
   ],
   "source": [
    "students_df['age'] = round((now - students_df['birthday']) / timedelta(365)).astype(int) # год = 365 дней приблизительно\n",
    "students_df.head(2)"
   ]
  },
  {
   "cell_type": "code",
   "execution_count": 27,
   "metadata": {},
   "outputs": [],
   "source": [
    "students_df = students_df[(students_df['age'] >= 18) & (students_df['age'] <= 65)]"
   ]
  },
  {
   "cell_type": "code",
   "execution_count": 28,
   "metadata": {},
   "outputs": [
    {
     "data": {
      "text/plain": [
       "min       18.000000\n",
       "max       65.000000\n",
       "mean      32.465081\n",
       "median    32.000000\n",
       "Name: age, dtype: float64"
      ]
     },
     "execution_count": 28,
     "metadata": {},
     "output_type": "execute_result"
    }
   ],
   "source": [
    "students_df.age.agg(['min', 'max', 'mean', 'median'])"
   ]
  },
  {
   "cell_type": "markdown",
   "metadata": {},
   "source": [
    "### Вариант 3  - через pd.date_range()"
   ]
  },
  {
   "cell_type": "code",
   "execution_count": 29,
   "metadata": {},
   "outputs": [
    {
     "data": {
      "text/html": [
       "<div>\n",
       "<style scoped>\n",
       "    .dataframe tbody tr th:only-of-type {\n",
       "        vertical-align: middle;\n",
       "    }\n",
       "\n",
       "    .dataframe tbody tr th {\n",
       "        vertical-align: top;\n",
       "    }\n",
       "\n",
       "    .dataframe thead th {\n",
       "        text-align: right;\n",
       "    }\n",
       "</style>\n",
       "<table border=\"1\" class=\"dataframe\">\n",
       "  <thead>\n",
       "    <tr style=\"text-align: right;\">\n",
       "      <th></th>\n",
       "      <th>student_id</th>\n",
       "      <th>city</th>\n",
       "      <th>birthday</th>\n",
       "    </tr>\n",
       "  </thead>\n",
       "  <tbody>\n",
       "    <tr>\n",
       "      <th>1</th>\n",
       "      <td>6c3e52be632fc50de9640147e4017dcd</td>\n",
       "      <td>Москва</td>\n",
       "      <td>1979-10-23</td>\n",
       "    </tr>\n",
       "    <tr>\n",
       "      <th>7</th>\n",
       "      <td>35a36d90b745992b59085c8d54a072e7</td>\n",
       "      <td>Красноярск</td>\n",
       "      <td>1991-08-15</td>\n",
       "    </tr>\n",
       "  </tbody>\n",
       "</table>\n",
       "</div>"
      ],
      "text/plain": [
       "                         student_id        city    birthday\n",
       "1  6c3e52be632fc50de9640147e4017dcd      Москва  1979-10-23\n",
       "7  35a36d90b745992b59085c8d54a072e7  Красноярск  1991-08-15"
      ]
     },
     "execution_count": 29,
     "metadata": {},
     "output_type": "execute_result"
    }
   ],
   "source": [
    "students_df = pd.read_csv('./Data/students.csv')  #  (43830, 3)  \n",
    "students_df = students_df.drop('id_', axis=1)\n",
    "students_df.rename(columns={'id' : 'student_id'}, inplace=True)\n",
    "students_df.dropna(subset=['birthday'], inplace=True) # удалим NaN \n",
    "students_df.head(2)   "
   ]
  },
  {
   "cell_type": "code",
   "execution_count": 31,
   "metadata": {},
   "outputs": [],
   "source": [
    "students_df['birthday'] = pd.to_datetime(students_df['birthday'], errors='coerce' ) \n",
    "students_df.dropna(subset=['birthday'], inplace=True)"
   ]
  },
  {
   "cell_type": "code",
   "execution_count": 32,
   "metadata": {},
   "outputs": [],
   "source": [
    "students_df['age'] = \\\n",
    "    students_df.apply(lambda x: len(pd.date_range(start = x['birthday'] , end= now, freq=\"Y\")), axis=1)\n",
    "\n",
    "# количество периодов размером 1 год от старта == лет на сегодняшний момент"
   ]
  },
  {
   "cell_type": "code",
   "execution_count": 33,
   "metadata": {},
   "outputs": [
    {
     "data": {
      "text/html": [
       "<div>\n",
       "<style scoped>\n",
       "    .dataframe tbody tr th:only-of-type {\n",
       "        vertical-align: middle;\n",
       "    }\n",
       "\n",
       "    .dataframe tbody tr th {\n",
       "        vertical-align: top;\n",
       "    }\n",
       "\n",
       "    .dataframe thead th {\n",
       "        text-align: right;\n",
       "    }\n",
       "</style>\n",
       "<table border=\"1\" class=\"dataframe\">\n",
       "  <thead>\n",
       "    <tr style=\"text-align: right;\">\n",
       "      <th></th>\n",
       "      <th>student_id</th>\n",
       "      <th>city</th>\n",
       "      <th>birthday</th>\n",
       "      <th>age</th>\n",
       "    </tr>\n",
       "  </thead>\n",
       "  <tbody>\n",
       "    <tr>\n",
       "      <th>1</th>\n",
       "      <td>6c3e52be632fc50de9640147e4017dcd</td>\n",
       "      <td>Москва</td>\n",
       "      <td>1979-10-23</td>\n",
       "      <td>44</td>\n",
       "    </tr>\n",
       "    <tr>\n",
       "      <th>7</th>\n",
       "      <td>35a36d90b745992b59085c8d54a072e7</td>\n",
       "      <td>Красноярск</td>\n",
       "      <td>1991-08-15</td>\n",
       "      <td>32</td>\n",
       "    </tr>\n",
       "  </tbody>\n",
       "</table>\n",
       "</div>"
      ],
      "text/plain": [
       "                         student_id        city   birthday  age\n",
       "1  6c3e52be632fc50de9640147e4017dcd      Москва 1979-10-23   44\n",
       "7  35a36d90b745992b59085c8d54a072e7  Красноярск 1991-08-15   32"
      ]
     },
     "execution_count": 33,
     "metadata": {},
     "output_type": "execute_result"
    }
   ],
   "source": [
    "students_df.head(2)"
   ]
  },
  {
   "cell_type": "code",
   "execution_count": 34,
   "metadata": {},
   "outputs": [],
   "source": [
    "students_df = students_df[(students_df['age'] >= 18) & (students_df['age'] <= 65)] "
   ]
  },
  {
   "cell_type": "code",
   "execution_count": 35,
   "metadata": {},
   "outputs": [
    {
     "data": {
      "text/plain": [
       "min       18.000000\n",
       "max       65.000000\n",
       "mean      32.664202\n",
       "median    32.000000\n",
       "Name: age, dtype: float64"
      ]
     },
     "execution_count": 35,
     "metadata": {},
     "output_type": "execute_result"
    }
   ],
   "source": [
    "students_df.age.agg(['min', 'max', 'mean', 'median'])"
   ]
  },
  {
   "cell_type": "markdown",
   "metadata": {},
   "source": [
    "### минимальный, максимальный, средний, медианный возраст студентов на каждом курсе"
   ]
  },
  {
   "cell_type": "code",
   "execution_count": 36,
   "metadata": {},
   "outputs": [
    {
     "data": {
      "text/html": [
       "<div>\n",
       "<style scoped>\n",
       "    .dataframe tbody tr th:only-of-type {\n",
       "        vertical-align: middle;\n",
       "    }\n",
       "\n",
       "    .dataframe tbody tr th {\n",
       "        vertical-align: top;\n",
       "    }\n",
       "\n",
       "    .dataframe thead th {\n",
       "        text-align: right;\n",
       "    }\n",
       "</style>\n",
       "<table border=\"1\" class=\"dataframe\">\n",
       "  <thead>\n",
       "    <tr style=\"text-align: right;\">\n",
       "      <th></th>\n",
       "      <th>student_id</th>\n",
       "      <th>city</th>\n",
       "      <th>birthday</th>\n",
       "      <th>age</th>\n",
       "    </tr>\n",
       "  </thead>\n",
       "  <tbody>\n",
       "    <tr>\n",
       "      <th>1</th>\n",
       "      <td>6c3e52be632fc50de9640147e4017dcd</td>\n",
       "      <td>Москва</td>\n",
       "      <td>1979-10-23</td>\n",
       "      <td>44</td>\n",
       "    </tr>\n",
       "    <tr>\n",
       "      <th>7</th>\n",
       "      <td>35a36d90b745992b59085c8d54a072e7</td>\n",
       "      <td>Красноярск</td>\n",
       "      <td>1991-08-15</td>\n",
       "      <td>32</td>\n",
       "    </tr>\n",
       "  </tbody>\n",
       "</table>\n",
       "</div>"
      ],
      "text/plain": [
       "                         student_id        city   birthday  age\n",
       "1  6c3e52be632fc50de9640147e4017dcd      Москва 1979-10-23   44\n",
       "7  35a36d90b745992b59085c8d54a072e7  Красноярск 1991-08-15   32"
      ]
     },
     "execution_count": 36,
     "metadata": {},
     "output_type": "execute_result"
    }
   ],
   "source": [
    "students_df.head(2)"
   ]
  },
  {
   "cell_type": "code",
   "execution_count": 37,
   "metadata": {},
   "outputs": [
    {
     "data": {
      "text/html": [
       "<div>\n",
       "<style scoped>\n",
       "    .dataframe tbody tr th:only-of-type {\n",
       "        vertical-align: middle;\n",
       "    }\n",
       "\n",
       "    .dataframe tbody tr th {\n",
       "        vertical-align: top;\n",
       "    }\n",
       "\n",
       "    .dataframe thead th {\n",
       "        text-align: right;\n",
       "    }\n",
       "</style>\n",
       "<table border=\"1\" class=\"dataframe\">\n",
       "  <thead>\n",
       "    <tr style=\"text-align: right;\">\n",
       "      <th></th>\n",
       "      <th>course_id</th>\n",
       "      <th>course_title</th>\n",
       "      <th>course_field</th>\n",
       "    </tr>\n",
       "  </thead>\n",
       "  <tbody>\n",
       "    <tr>\n",
       "      <th>0</th>\n",
       "      <td>943306102e5b067d08a29094f37b8193</td>\n",
       "      <td>Java-разработчик c нуля</td>\n",
       "      <td>Development</td>\n",
       "    </tr>\n",
       "    <tr>\n",
       "      <th>1</th>\n",
       "      <td>17013cd19d25cb3f28dc1b2683721bb9</td>\n",
       "      <td>Веб-дизайн Базовый</td>\n",
       "      <td>Design</td>\n",
       "    </tr>\n",
       "  </tbody>\n",
       "</table>\n",
       "</div>"
      ],
      "text/plain": [
       "                          course_id             course_title course_field\n",
       "0  943306102e5b067d08a29094f37b8193  Java-разработчик c нуля  Development\n",
       "1  17013cd19d25cb3f28dc1b2683721bb9       Веб-дизайн Базовый       Design"
      ]
     },
     "execution_count": 37,
     "metadata": {},
     "output_type": "execute_result"
    }
   ],
   "source": [
    "courses_df.head(2)"
   ]
  },
  {
   "cell_type": "code",
   "execution_count": 38,
   "metadata": {},
   "outputs": [
    {
     "data": {
      "text/html": [
       "<div>\n",
       "<style scoped>\n",
       "    .dataframe tbody tr th:only-of-type {\n",
       "        vertical-align: middle;\n",
       "    }\n",
       "\n",
       "    .dataframe tbody tr th {\n",
       "        vertical-align: top;\n",
       "    }\n",
       "\n",
       "    .dataframe thead th {\n",
       "        text-align: right;\n",
       "    }\n",
       "</style>\n",
       "<table border=\"1\" class=\"dataframe\">\n",
       "  <thead>\n",
       "    <tr style=\"text-align: right;\">\n",
       "      <th></th>\n",
       "      <th>progress_id</th>\n",
       "      <th>student_id</th>\n",
       "      <th>course_id</th>\n",
       "    </tr>\n",
       "  </thead>\n",
       "  <tbody>\n",
       "    <tr>\n",
       "      <th>0</th>\n",
       "      <td>8459fbc07e32ec92bd7b43d7df9bfa89</td>\n",
       "      <td>a6ae278c0eab719b3784e5ea147c128f</td>\n",
       "      <td>0770b1b039964228294f1f34b29fc2c1</td>\n",
       "    </tr>\n",
       "    <tr>\n",
       "      <th>1</th>\n",
       "      <td>a9d173142534e33ce39146017f9c6835</td>\n",
       "      <td>e24062de06d301937b3b3a8e383e3e21</td>\n",
       "      <td>bf27a4bf4ada4c756451703ea62a914f</td>\n",
       "    </tr>\n",
       "  </tbody>\n",
       "</table>\n",
       "</div>"
      ],
      "text/plain": [
       "                        progress_id                        student_id  \\\n",
       "0  8459fbc07e32ec92bd7b43d7df9bfa89  a6ae278c0eab719b3784e5ea147c128f   \n",
       "1  a9d173142534e33ce39146017f9c6835  e24062de06d301937b3b3a8e383e3e21   \n",
       "\n",
       "                          course_id  \n",
       "0  0770b1b039964228294f1f34b29fc2c1  \n",
       "1  bf27a4bf4ada4c756451703ea62a914f  "
      ]
     },
     "execution_count": 38,
     "metadata": {},
     "output_type": "execute_result"
    }
   ],
   "source": [
    "progresses_df.head(2) "
   ]
  },
  {
   "cell_type": "code",
   "execution_count": 39,
   "metadata": {},
   "outputs": [
    {
     "data": {
      "text/html": [
       "<div>\n",
       "<style scoped>\n",
       "    .dataframe tbody tr th:only-of-type {\n",
       "        vertical-align: middle;\n",
       "    }\n",
       "\n",
       "    .dataframe tbody tr th {\n",
       "        vertical-align: top;\n",
       "    }\n",
       "\n",
       "    .dataframe thead th {\n",
       "        text-align: right;\n",
       "    }\n",
       "</style>\n",
       "<table border=\"1\" class=\"dataframe\">\n",
       "  <thead>\n",
       "    <tr style=\"text-align: right;\">\n",
       "      <th></th>\n",
       "      <th>course_id</th>\n",
       "      <th>course_title</th>\n",
       "      <th>progress_id</th>\n",
       "      <th>student_id</th>\n",
       "    </tr>\n",
       "  </thead>\n",
       "  <tbody>\n",
       "    <tr>\n",
       "      <th>0</th>\n",
       "      <td>943306102e5b067d08a29094f37b8193</td>\n",
       "      <td>Java-разработчик c нуля</td>\n",
       "      <td>45cdf025b87db75e84f93c4ac3ccb5c7</td>\n",
       "      <td>0b4656b84ca60350583f8fbe236dda86</td>\n",
       "    </tr>\n",
       "    <tr>\n",
       "      <th>1</th>\n",
       "      <td>943306102e5b067d08a29094f37b8193</td>\n",
       "      <td>Java-разработчик c нуля</td>\n",
       "      <td>0c56109dde49080e7441e95b22bb73c2</td>\n",
       "      <td>1d874e6b6bdc34559781f65f9f761791</td>\n",
       "    </tr>\n",
       "  </tbody>\n",
       "</table>\n",
       "</div>"
      ],
      "text/plain": [
       "                          course_id             course_title  \\\n",
       "0  943306102e5b067d08a29094f37b8193  Java-разработчик c нуля   \n",
       "1  943306102e5b067d08a29094f37b8193  Java-разработчик c нуля   \n",
       "\n",
       "                        progress_id                        student_id  \n",
       "0  45cdf025b87db75e84f93c4ac3ccb5c7  0b4656b84ca60350583f8fbe236dda86  \n",
       "1  0c56109dde49080e7441e95b22bb73c2  1d874e6b6bdc34559781f65f9f761791  "
      ]
     },
     "execution_count": 39,
     "metadata": {},
     "output_type": "execute_result"
    }
   ],
   "source": [
    "age_df = courses_df[['course_id', 'course_title']].merge(progresses_df, on='course_id', how='inner') # объединим\n",
    "age_df.head(2)"
   ]
  },
  {
   "cell_type": "code",
   "execution_count": 40,
   "metadata": {},
   "outputs": [
    {
     "data": {
      "text/html": [
       "<div>\n",
       "<style scoped>\n",
       "    .dataframe tbody tr th:only-of-type {\n",
       "        vertical-align: middle;\n",
       "    }\n",
       "\n",
       "    .dataframe tbody tr th {\n",
       "        vertical-align: top;\n",
       "    }\n",
       "\n",
       "    .dataframe thead th {\n",
       "        text-align: right;\n",
       "    }\n",
       "</style>\n",
       "<table border=\"1\" class=\"dataframe\">\n",
       "  <thead>\n",
       "    <tr style=\"text-align: right;\">\n",
       "      <th></th>\n",
       "      <th>course_id</th>\n",
       "      <th>course_title</th>\n",
       "      <th>progress_id</th>\n",
       "      <th>student_id</th>\n",
       "      <th>city</th>\n",
       "      <th>birthday</th>\n",
       "      <th>age</th>\n",
       "    </tr>\n",
       "  </thead>\n",
       "  <tbody>\n",
       "    <tr>\n",
       "      <th>0</th>\n",
       "      <td>943306102e5b067d08a29094f37b8193</td>\n",
       "      <td>Java-разработчик c нуля</td>\n",
       "      <td>45cdf025b87db75e84f93c4ac3ccb5c7</td>\n",
       "      <td>0b4656b84ca60350583f8fbe236dda86</td>\n",
       "      <td>Москва</td>\n",
       "      <td>1997-07-24</td>\n",
       "      <td>26</td>\n",
       "    </tr>\n",
       "    <tr>\n",
       "      <th>1</th>\n",
       "      <td>6e4837f0a65c68efbfdd0594d6774701</td>\n",
       "      <td>Java-разработчик</td>\n",
       "      <td>aab2812adb6f8636341b11b693c44a22</td>\n",
       "      <td>0b4656b84ca60350583f8fbe236dda86</td>\n",
       "      <td>Москва</td>\n",
       "      <td>1997-07-24</td>\n",
       "      <td>26</td>\n",
       "    </tr>\n",
       "  </tbody>\n",
       "</table>\n",
       "</div>"
      ],
      "text/plain": [
       "                          course_id             course_title  \\\n",
       "0  943306102e5b067d08a29094f37b8193  Java-разработчик c нуля   \n",
       "1  6e4837f0a65c68efbfdd0594d6774701         Java-разработчик   \n",
       "\n",
       "                        progress_id                        student_id    city  \\\n",
       "0  45cdf025b87db75e84f93c4ac3ccb5c7  0b4656b84ca60350583f8fbe236dda86  Москва   \n",
       "1  aab2812adb6f8636341b11b693c44a22  0b4656b84ca60350583f8fbe236dda86  Москва   \n",
       "\n",
       "    birthday  age  \n",
       "0 1997-07-24   26  \n",
       "1 1997-07-24   26  "
      ]
     },
     "execution_count": 40,
     "metadata": {},
     "output_type": "execute_result"
    }
   ],
   "source": [
    "age_df = age_df.merge(students_df, on='student_id') # (14130, 7) именно how='inner', иначе будут студенты без возраста и ДР\n",
    "age_df.head(2)"
   ]
  },
  {
   "cell_type": "code",
   "execution_count": 41,
   "metadata": {},
   "outputs": [
    {
     "data": {
      "text/html": [
       "<div>\n",
       "<style scoped>\n",
       "    .dataframe tbody tr th:only-of-type {\n",
       "        vertical-align: middle;\n",
       "    }\n",
       "\n",
       "    .dataframe tbody tr th {\n",
       "        vertical-align: top;\n",
       "    }\n",
       "\n",
       "    .dataframe thead th {\n",
       "        text-align: right;\n",
       "    }\n",
       "</style>\n",
       "<table border=\"1\" class=\"dataframe\">\n",
       "  <thead>\n",
       "    <tr style=\"text-align: right;\">\n",
       "      <th></th>\n",
       "      <th>min</th>\n",
       "      <th>max</th>\n",
       "      <th>mean</th>\n",
       "      <th>median</th>\n",
       "    </tr>\n",
       "    <tr>\n",
       "      <th>course_title</th>\n",
       "      <th></th>\n",
       "      <th></th>\n",
       "      <th></th>\n",
       "      <th></th>\n",
       "    </tr>\n",
       "  </thead>\n",
       "  <tbody>\n",
       "    <tr>\n",
       "      <th>Excel Базовый</th>\n",
       "      <td>20</td>\n",
       "      <td>64</td>\n",
       "      <td>37.241742</td>\n",
       "      <td>37.0</td>\n",
       "    </tr>\n",
       "    <tr>\n",
       "      <th>Java-разработчик</th>\n",
       "      <td>18</td>\n",
       "      <td>58</td>\n",
       "      <td>32.837956</td>\n",
       "      <td>32.0</td>\n",
       "    </tr>\n",
       "    <tr>\n",
       "      <th>Java-разработчик c нуля</th>\n",
       "      <td>18</td>\n",
       "      <td>58</td>\n",
       "      <td>33.164076</td>\n",
       "      <td>32.0</td>\n",
       "    </tr>\n",
       "    <tr>\n",
       "      <th>JavaScript с нуля</th>\n",
       "      <td>18</td>\n",
       "      <td>63</td>\n",
       "      <td>32.230011</td>\n",
       "      <td>31.0</td>\n",
       "    </tr>\n",
       "    <tr>\n",
       "      <th>PHP-разработчик с 0 до PRO. Часть 1</th>\n",
       "      <td>18</td>\n",
       "      <td>63</td>\n",
       "      <td>33.042394</td>\n",
       "      <td>32.0</td>\n",
       "    </tr>\n",
       "    <tr>\n",
       "      <th>SMM-маркетолог от А до Я</th>\n",
       "      <td>21</td>\n",
       "      <td>55</td>\n",
       "      <td>32.621730</td>\n",
       "      <td>32.0</td>\n",
       "    </tr>\n",
       "    <tr>\n",
       "      <th>UX-дизайн</th>\n",
       "      <td>18</td>\n",
       "      <td>61</td>\n",
       "      <td>33.757028</td>\n",
       "      <td>33.0</td>\n",
       "    </tr>\n",
       "    <tr>\n",
       "      <th>Анимация интерфейсов</th>\n",
       "      <td>18</td>\n",
       "      <td>54</td>\n",
       "      <td>33.227188</td>\n",
       "      <td>33.0</td>\n",
       "    </tr>\n",
       "    <tr>\n",
       "      <th>Веб-вёрстка для начинающих 2.0</th>\n",
       "      <td>18</td>\n",
       "      <td>63</td>\n",
       "      <td>32.254879</td>\n",
       "      <td>31.0</td>\n",
       "    </tr>\n",
       "    <tr>\n",
       "      <th>Веб-дизайн PRO 2.0</th>\n",
       "      <td>18</td>\n",
       "      <td>62</td>\n",
       "      <td>32.091593</td>\n",
       "      <td>31.0</td>\n",
       "    </tr>\n",
       "    <tr>\n",
       "      <th>Веб-дизайн Базовый</th>\n",
       "      <td>19</td>\n",
       "      <td>54</td>\n",
       "      <td>32.178191</td>\n",
       "      <td>31.0</td>\n",
       "    </tr>\n",
       "    <tr>\n",
       "      <th>Веб-дизайн с нуля 2.0</th>\n",
       "      <td>18</td>\n",
       "      <td>62</td>\n",
       "      <td>31.801783</td>\n",
       "      <td>31.0</td>\n",
       "    </tr>\n",
       "    <tr>\n",
       "      <th>Веб-разработчик</th>\n",
       "      <td>19</td>\n",
       "      <td>54</td>\n",
       "      <td>31.796574</td>\n",
       "      <td>31.0</td>\n",
       "    </tr>\n",
       "    <tr>\n",
       "      <th>Интернет-маркетолог от Ingate</th>\n",
       "      <td>20</td>\n",
       "      <td>63</td>\n",
       "      <td>34.815492</td>\n",
       "      <td>34.0</td>\n",
       "    </tr>\n",
       "    <tr>\n",
       "      <th>Руководитель digital-проектов</th>\n",
       "      <td>22</td>\n",
       "      <td>58</td>\n",
       "      <td>35.166369</td>\n",
       "      <td>35.0</td>\n",
       "    </tr>\n",
       "  </tbody>\n",
       "</table>\n",
       "</div>"
      ],
      "text/plain": [
       "                                     min  max       mean  median\n",
       "course_title                                                    \n",
       "Excel Базовый                         20   64  37.241742    37.0\n",
       "Java-разработчик                      18   58  32.837956    32.0\n",
       "Java-разработчик c нуля               18   58  33.164076    32.0\n",
       "JavaScript с нуля                     18   63  32.230011    31.0\n",
       "PHP-разработчик с 0 до PRO. Часть 1   18   63  33.042394    32.0\n",
       "SMM-маркетолог от А до Я              21   55  32.621730    32.0\n",
       "UX-дизайн                             18   61  33.757028    33.0\n",
       "Анимация интерфейсов                  18   54  33.227188    33.0\n",
       "Веб-вёрстка для начинающих 2.0        18   63  32.254879    31.0\n",
       "Веб-дизайн PRO 2.0                    18   62  32.091593    31.0\n",
       "Веб-дизайн Базовый                    19   54  32.178191    31.0\n",
       "Веб-дизайн с нуля 2.0                 18   62  31.801783    31.0\n",
       "Веб-разработчик                       19   54  31.796574    31.0\n",
       "Интернет-маркетолог от Ingate         20   63  34.815492    34.0\n",
       "Руководитель digital-проектов         22   58  35.166369    35.0"
      ]
     },
     "execution_count": 41,
     "metadata": {},
     "output_type": "execute_result"
    }
   ],
   "source": [
    "age_df.groupby('course_title').age.agg(['min', 'max', 'mean', 'median'])"
   ]
  },
  {
   "cell_type": "code",
   "execution_count": 42,
   "metadata": {},
   "outputs": [],
   "source": [
    "age_df.to_csv('./Data/age.csv', index=False) # сохраним датасет"
   ]
  },
  {
   "cell_type": "code",
   "execution_count": null,
   "metadata": {},
   "outputs": [],
   "source": []
  },
  {
   "cell_type": "code",
   "execution_count": 43,
   "metadata": {},
   "outputs": [],
   "source": [
    "import matplotlib.pyplot as plt"
   ]
  },
  {
   "cell_type": "markdown",
   "metadata": {},
   "source": [
    "### Bar-chart, отражающий количество студентов на каждом курсе."
   ]
  },
  {
   "cell_type": "code",
   "execution_count": 44,
   "metadata": {},
   "outputs": [
    {
     "data": {
      "text/plain": [
       "course_title\n",
       "SMM-маркетолог от А до Я    506\n",
       "Веб-дизайн Базовый          518\n",
       "Java-разработчик c нуля     581\n",
       "Name: student_id, dtype: int64"
      ]
     },
     "execution_count": 44,
     "metadata": {},
     "output_type": "execute_result"
    }
   ],
   "source": [
    "qaqa = main_df.groupby('course_title').student_id.nunique().sort_values()\n",
    "qaqa.head(3)"
   ]
  },
  {
   "cell_type": "code",
   "execution_count": 45,
   "metadata": {},
   "outputs": [
    {
     "data": {
      "image/png": "[encoded data removed]",
      "text/plain": [
       "<Figure size 432x288 with 1 Axes>"
      ]
     },
     "metadata": {
      "needs_background": "light"
     },
     "output_type": "display_data"
    }
   ],
   "source": [
    "plt.bar(qaqa.index, qaqa.values)\n",
    "plt.xticks(rotation=90)\n",
    "plt.show()"
   ]
  },
  {
   "cell_type": "raw",
   "metadata": {},
   "source": [
    "или так "
   ]
  },
  {
   "cell_type": "code",
   "execution_count": 46,
   "metadata": {},
   "outputs": [
    {
     "data": {
      "text/html": [
       "<div>\n",
       "<style scoped>\n",
       "    .dataframe tbody tr th:only-of-type {\n",
       "        vertical-align: middle;\n",
       "    }\n",
       "\n",
       "    .dataframe tbody tr th {\n",
       "        vertical-align: top;\n",
       "    }\n",
       "\n",
       "    .dataframe thead th {\n",
       "        text-align: right;\n",
       "    }\n",
       "</style>\n",
       "<table border=\"1\" class=\"dataframe\">\n",
       "  <thead>\n",
       "    <tr style=\"text-align: right;\">\n",
       "      <th></th>\n",
       "      <th>course_title</th>\n",
       "      <th>student_number</th>\n",
       "    </tr>\n",
       "  </thead>\n",
       "  <tbody>\n",
       "    <tr>\n",
       "      <th>0</th>\n",
       "      <td>Интернет-маркетолог от Ingate</td>\n",
       "      <td>2168</td>\n",
       "    </tr>\n",
       "    <tr>\n",
       "      <th>1</th>\n",
       "      <td>Веб-дизайн с нуля 2.0</td>\n",
       "      <td>2014</td>\n",
       "    </tr>\n",
       "    <tr>\n",
       "      <th>2</th>\n",
       "      <td>Веб-вёрстка для начинающих 2.0</td>\n",
       "      <td>2004</td>\n",
       "    </tr>\n",
       "  </tbody>\n",
       "</table>\n",
       "</div>"
      ],
      "text/plain": [
       "                     course_title  student_number\n",
       "0   Интернет-маркетолог от Ingate            2168\n",
       "1           Веб-дизайн с нуля 2.0            2014\n",
       "2  Веб-вёрстка для начинающих 2.0            2004"
      ]
     },
     "execution_count": 46,
     "metadata": {},
     "output_type": "execute_result"
    }
   ],
   "source": [
    "bar_df = main_df.groupby('course_title').student_id.nunique().sort_values(ascending=False).reset_index()\n",
    "bar_df.rename(columns={'student_id' : 'student_number'}, inplace=True)\n",
    "bar_df.head(3)"
   ]
  },
  {
   "cell_type": "code",
   "execution_count": 47,
   "metadata": {},
   "outputs": [
    {
     "data": {
      "image/png": "[encoded data removed]",
      "text/plain": [
       "<Figure size 720x360 with 1 Axes>"
      ]
     },
     "metadata": {
      "needs_background": "light"
     },
     "output_type": "display_data"
    }
   ],
   "source": [
    "plot = bar_df.plot.bar(x='course_title', y='student_number', figsize=(10,5))\n",
    "plot.set(xlabel=None)\n",
    "plt.show()"
   ]
  },
  {
   "cell_type": "raw",
   "metadata": {},
   "source": [
    "или так"
   ]
  },
  {
   "cell_type": "code",
   "execution_count": 48,
   "metadata": {},
   "outputs": [
    {
     "data": {
      "image/png": "[encoded data removed]",
      "text/plain": [
       "<Figure size 720x432 with 1 Axes>"
      ]
     },
     "metadata": {
      "needs_background": "light"
     },
     "output_type": "display_data"
    }
   ],
   "source": [
    "plt.figure(figsize=(10,6))\n",
    "plt.bar(bar_df.course_title, bar_df.student_number, width=0.6, label='student_number')\n",
    "plt.xticks(rotation=45, horizontalalignment='right')\n",
    "plt.legend()\n",
    "\n",
    "plt.show()"
   ]
  },
  {
   "cell_type": "markdown",
   "metadata": {},
   "source": [
    "### Горизонтальный Bar-chart, отражающий количество студентов на каждом курсе. "
   ]
  },
  {
   "cell_type": "code",
   "execution_count": 49,
   "metadata": {},
   "outputs": [
    {
     "data": {
      "text/plain": [
       "782"
      ]
     },
     "execution_count": 49,
     "metadata": {},
     "output_type": "execute_result"
    }
   ],
   "source": [
    "median_value = int(bar_df.student_number.median())\n",
    "median_value"
   ]
  },
  {
   "cell_type": "code",
   "execution_count": 50,
   "metadata": {},
   "outputs": [
    {
     "data": {
      "image/png": "[encoded data removed]",
      "text/plain": [
       "<Figure size 864x432 with 1 Axes>"
      ]
     },
     "metadata": {
      "needs_background": "light"
     },
     "output_type": "display_data"
    }
   ],
   "source": [
    "plot = bar_df.plot.barh(x='course_title', y='student_number', color='green', figsize=(12,6), alpha=0.9)\n",
    "plt.xlabel(\"Количество студентов\", fontsize=14)\n",
    "plt.title(\"Количество студентов по курсам\", fontsize=18)\n",
    "plt.axvline(x=median_value, ls='--', color='r', label=f\"Median_number {median_value}\", linewidth=0.5)\n",
    "plot.legend(loc=1, fontsize=12)\n",
    "plot.set(ylabel=None)\n",
    "plot.set_frame_on(False) # рамка\n",
    "plt.show()"
   ]
  },
  {
   "cell_type": "code",
   "execution_count": 51,
   "metadata": {},
   "outputs": [
    {
     "data": {
      "text/html": [
       "<div>\n",
       "<style scoped>\n",
       "    .dataframe tbody tr th:only-of-type {\n",
       "        vertical-align: middle;\n",
       "    }\n",
       "\n",
       "    .dataframe tbody tr th {\n",
       "        vertical-align: top;\n",
       "    }\n",
       "\n",
       "    .dataframe thead th {\n",
       "        text-align: right;\n",
       "    }\n",
       "</style>\n",
       "<table border=\"1\" class=\"dataframe\">\n",
       "  <thead>\n",
       "    <tr style=\"text-align: right;\">\n",
       "      <th></th>\n",
       "      <th>course_field</th>\n",
       "      <th>course_title</th>\n",
       "      <th>student_number</th>\n",
       "    </tr>\n",
       "  </thead>\n",
       "  <tbody>\n",
       "    <tr>\n",
       "      <th>0</th>\n",
       "      <td>Marketing</td>\n",
       "      <td>Интернет-маркетолог от Ingate</td>\n",
       "      <td>2168</td>\n",
       "    </tr>\n",
       "    <tr>\n",
       "      <th>1</th>\n",
       "      <td>Design</td>\n",
       "      <td>Веб-дизайн с нуля 2.0</td>\n",
       "      <td>2014</td>\n",
       "    </tr>\n",
       "    <tr>\n",
       "      <th>2</th>\n",
       "      <td>Development</td>\n",
       "      <td>Веб-вёрстка для начинающих 2.0</td>\n",
       "      <td>2004</td>\n",
       "    </tr>\n",
       "  </tbody>\n",
       "</table>\n",
       "</div>"
      ],
      "text/plain": [
       "  course_field                    course_title  student_number\n",
       "0    Marketing   Интернет-маркетолог от Ingate            2168\n",
       "1       Design           Веб-дизайн с нуля 2.0            2014\n",
       "2  Development  Веб-вёрстка для начинающих 2.0            2004"
      ]
     },
     "execution_count": 51,
     "metadata": {},
     "output_type": "execute_result"
    }
   ],
   "source": [
    "field_df = main_df.groupby(['course_field', 'course_title']).student_id.nunique().sort_values(ascending=False).reset_index()\n",
    "field_df.rename(columns={'student_id' : 'student_number'}, inplace=True)\n",
    "field_df.head(3)"
   ]
  },
  {
   "cell_type": "code",
   "execution_count": 52,
   "metadata": {},
   "outputs": [
    {
     "data": {
      "image/png": "[encoded data removed]",
      "text/plain": [
       "<Figure size 648x504 with 1 Axes>"
      ]
     },
     "metadata": {
      "needs_background": "light"
     },
     "output_type": "display_data"
    }
   ],
   "source": [
    "fig, ax1 = plt.subplots(figsize=(9, 7)) \n",
    "\n",
    "for name, group in field_df.groupby(['course_field']): \n",
    "    ax1.barh(group.course_title, group.student_number, label=name, alpha=0.9)\n",
    "\n",
    "ax1.set_title(\"Количество студентов по курсам\", fontsize=16)\n",
    "ax1.set_xlabel(\"Количество студентов\", fontsize=14)\n",
    "ax1.axvline(median_value, ls='--', color='r', label=f\"Median_number {median_value}\", linewidth=0.5)\n",
    "ax1.set_frame_on(False) # рамка\n",
    "ax1.legend(bbox_to_anchor=(1,1)) # расположение легенды\n",
    "\n",
    "plt.show()"
   ]
  },
  {
   "cell_type": "code",
   "execution_count": 53,
   "metadata": {},
   "outputs": [
    {
     "data": {
      "image/png": "[encoded data removed]",
      "text/plain": [
       "<Figure size 720x432 with 1 Axes>"
      ]
     },
     "metadata": {
      "needs_background": "light"
     },
     "output_type": "display_data"
    }
   ],
   "source": [
    "fig = plt.figure(figsize=(10,6))\n",
    "ax = plt.subplot(frameon=False) # рамка № 1\n",
    "for name, group in field_df.groupby(['course_field']):    \n",
    "    plt.barh(group.course_title, group.student_number, label=name, alpha=0.9)\n",
    "\n",
    "plt.title(\"Количество студентов по курсам\", fontsize=16)\n",
    "plt.xlabel(\"Количество студентов\", fontsize=14)\n",
    "plt.axvline(median_value, ls='--', color='r', label=f\"Median_number {median_value}\", linewidth=0.5)\n",
    "plt.legend(bbox_to_anchor=(1,1))\n",
    "\n",
    "plt.show()"
   ]
  },
  {
   "cell_type": "raw",
   "metadata": {},
   "source": [
    "можно чуть приукрасить"
   ]
  },
  {
   "cell_type": "code",
   "execution_count": 54,
   "metadata": {},
   "outputs": [],
   "source": [
    "import matplotlib"
   ]
  },
  {
   "cell_type": "code",
   "execution_count": 55,
   "metadata": {},
   "outputs": [
    {
     "data": {
      "text/plain": [
       "['Marketing', 'Design', 'Development', 'Business']"
      ]
     },
     "execution_count": 55,
     "metadata": {},
     "output_type": "execute_result"
    }
   ],
   "source": [
    "field_list = field_df['course_field'].unique().tolist()\n",
    "field_list"
   ]
  },
  {
   "cell_type": "code",
   "execution_count": 56,
   "metadata": {},
   "outputs": [],
   "source": [
    "colors = matplotlib.colors.get_named_colors_mapping()\n",
    "color_map = {                                  # задаем вручную                        \n",
    "    'Marketing': colors['xkcd:cloudy blue'],   # доступ к значению по ключу массива цветов\n",
    "    'Design': colors['xkcd:azul'], \n",
    "    'Development': colors['xkcd:electric lime'], \n",
    "    'Business': colors['xkcd:fresh green']\n",
    "}"
   ]
  },
  {
   "cell_type": "code",
   "execution_count": 57,
   "metadata": {},
   "outputs": [
    {
     "data": {
      "text/plain": [
       "{'Marketing': '#acc2d9',\n",
       " 'Design': '#56ae57',\n",
       " 'Development': '#b2996e',\n",
       " 'Business': '#a8ff04'}"
      ]
     },
     "execution_count": 57,
     "metadata": {},
     "output_type": "execute_result"
    }
   ],
   "source": [
    "# или так \n",
    "l = list(colors.values())[:4]\n",
    "color_map = {j:l[i] for i, j in enumerate(field_list)}\n",
    "color_map           "
   ]
  },
  {
   "cell_type": "code",
   "execution_count": 58,
   "metadata": {},
   "outputs": [
    {
     "data": {
      "image/png": "[encoded data removed]",
      "text/plain": [
       "<Figure size 720x432 with 1 Axes>"
      ]
     },
     "metadata": {
      "needs_background": "light"
     },
     "output_type": "display_data"
    }
   ],
   "source": [
    "fig = plt.figure(figsize=(10,6))\n",
    "ax = fig.add_subplot(frameon=False)  # рамка № 2\n",
    "for name, group in field_df.groupby(['course_field']):    \n",
    "    plt.barh(group.course_title, group.student_number, label=name, alpha=0.9, color=color_map[name])\n",
    "\n",
    "plt.title(\"Количество студентов по курсам\", fontsize=16)\n",
    "plt.xlabel(\"Количество студентов\", fontsize=14)\n",
    "plt.axvline(median_value, ls='--', color='r', label=f\"Median_number {median_value}\", linewidth=0.5)\n",
    "plt.legend(bbox_to_anchor=(1,1))\n",
    "\n",
    "plt.show()"
   ]
  },
  {
   "cell_type": "markdown",
   "metadata": {},
   "source": [
    "###  Итог"
   ]
  },
  {
   "cell_type": "markdown",
   "metadata": {},
   "source": [
    "- Студенты имеют возможность пройти обучение на 15 курсах.\n",
    "\n",
    "- Количество модулей на каждом курсе различается в зависимости от направления и колеблется от 8 до 21, в среднем примерно 15.\n",
    "\n",
    "- Медианное количество уроков в каждом модуле на курсе 5.\n",
    "\n",
    "- Количество учеников на курсах колеблется от 500 до 2000, среднее значение примерно 1000.\n",
    "\n",
    "- Средний возраст студентов 31 год\n",
    "\n",
    "- На курс Руководитель digital-проектов поступают более взрослые, наиболее возрастные студенты обучаются на курсах Руководитель digital-проектов и Excel Базовый, наибольший средний возраст на Excel Базовый - 35, наименьший на курсе Веб-разработчик - чуть менее 30, самые молодые студенты на обучаются на напралениях, связанных с Веб. "
   ]
  },
  {
   "cell_type": "code",
   "execution_count": null,
   "metadata": {},
   "outputs": [],
   "source": []
  }
 ],
 "metadata": {
  "kernelspec": {
   "display_name": "Python 3 (ipykernel)",
   "language": "python",
   "name": "python3"
  },
  "language_info": {
   "codemirror_mode": {
    "name": "ipython",
    "version": 3
   },
   "file_extension": ".py",
   "mimetype": "text/x-python",
   "name": "python",
   "nbconvert_exporter": "python",
   "pygments_lexer": "ipython3",
   "version": "3.9.12"
  }
 },
 "nbformat": 4,
 "nbformat_minor": 4
}
