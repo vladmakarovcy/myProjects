{
 "cells": [
  {
   "cell_type": "code",
   "execution_count": 1,
   "metadata": {},
   "outputs": [],
   "source": [
    "import pandas as pd\n",
    "import numpy as np\n",
    "import matplotlib.pyplot as plt"
   ]
  },
  {
   "cell_type": "code",
   "execution_count": 2,
   "metadata": {},
   "outputs": [],
   "source": [
    "main_df = pd.read_csv('./Data/main.csv')"
   ]
  },
  {
   "cell_type": "markdown",
   "metadata": {},
   "source": [
    "## 4. Расчет конверсии"
   ]
  },
  {
   "cell_type": "markdown",
   "metadata": {},
   "source": [
    "Посчитать конверсию перехода студентов из одного модуля в другой на каждом курсе.\n",
    "\n",
    "Конверсия -  отношение количества студентов, приступивших к выполнению домашнего задания в ТЕКУЩЕМ модуле (если дз в модуле несколько, то считать по первому дз в модуле), к количеству студентов, сдавших задание в предыдущем модуле (если дз в модуле несколько, то считать по последнему дз в модуле)."
   ]
  },
  {
   "cell_type": "raw",
   "metadata": {},
   "source": [
    "отношение количества студентов, приступивших к выполнению домашнего задания в этом модуле, т.е. студент начал любое ДЗ"
   ]
  },
  {
   "cell_type": "code",
   "execution_count": 3,
   "metadata": {},
   "outputs": [],
   "source": [
    "# найдем количество тех кто начал какое-либо ДЗ, т.е. начал модуль   (191, 4)\n",
    "\n",
    "start_df = main_df[main_df['is_homework'] == True] \n",
    "\n",
    "start_df = \\\n",
    "    start_df.groupby(['course_title', 'module_number']).\\\n",
    "    agg({'module_title' : 'first', 'course_field' : 'first', 'student_id' :'nunique'}).reset_index()\n",
    "# сгруппировали по курсу, по модулю и посчитали уникальных студентов (если есть несколько ДЗ в модуле)\n",
    "\n",
    "start_df.rename(columns={'student_id' : 'student_start'}, inplace = True)"
   ]
  },
  {
   "cell_type": "code",
   "execution_count": 4,
   "metadata": {},
   "outputs": [
    {
     "data": {
      "text/plain": [
       "array(['done', 'start', 'fail', 'wait'], dtype=object)"
      ]
     },
     "execution_count": 4,
     "metadata": {},
     "output_type": "execute_result"
    }
   ],
   "source": [
    "main_df['status'].unique()"
   ]
  },
  {
   "cell_type": "raw",
   "metadata": {},
   "source": [
    "к количеству студентов, успешно сдавших ВСЕ ДЗ в предыдущем модуле - тех кто прошел ВЕСЬ модуль,\n",
    "т.е. нет ДЗ со статусом ['start', 'fail', 'wait']"
   ]
  },
  {
   "cell_type": "code",
   "execution_count": 5,
   "metadata": {},
   "outputs": [],
   "source": [
    "finish_df = main_df[main_df['is_homework'] == True]\n",
    "finish_df = finish_df[['student_id', 'course_title', 'module_number', 'lesson_number', 'status']]\n",
    "\n",
    "finish_df['all_done'] = finish_df.groupby(['course_title', 'student_id', 'module_number'])['status'].\\\n",
    "    transform(lambda x: ~x.isin(['start', 'fail', 'wait']))\n",
    "# проверяем что нет статусов ['start', 'fail', 'wait'], т.е. ВСЕ ДЗ зачтены"
   ]
  },
  {
   "cell_type": "code",
   "execution_count": 6,
   "metadata": {},
   "outputs": [],
   "source": [
    "finish_df = finish_df[finish_df['all_done'] == True]\n",
    "finish_df = finish_df.groupby(['course_title', 'module_number'])['student_id'].nunique().reset_index()    # (190, 3)\n",
    "\n",
    "finish_df.rename(columns={'student_id' : 'student_finish'}, inplace = True)"
   ]
  },
  {
   "cell_type": "code",
   "execution_count": 7,
   "metadata": {},
   "outputs": [],
   "source": [
    "conv_df = start_df.merge(finish_df, how='outer', on=['course_title', 'module_number']) # (191, 4)"
   ]
  },
  {
   "cell_type": "code",
   "execution_count": 8,
   "metadata": {},
   "outputs": [],
   "source": [
    "def foo(x):\n",
    "    l = list(x[:-1])\n",
    "    l.insert(0,np.nan)\n",
    "    return l"
   ]
  },
  {
   "cell_type": "code",
   "execution_count": 9,
   "metadata": {},
   "outputs": [],
   "source": [
    "students_number = conv_df.groupby('course_title')['student_finish'].transform(foo).tolist()# используем student_finish\n",
    "\n",
    "conv_df['student_finish'] = students_number"
   ]
  },
  {
   "cell_type": "code",
   "execution_count": 10,
   "metadata": {},
   "outputs": [],
   "source": [
    "conv_df['conv'] = conv_df['student_start'] / conv_df['student_finish']\n",
    "# делим тех кто начал новый на тех кто закончил предыдущий\n",
    "\n",
    "conv_df.fillna(1, inplace=True)\n",
    "# для тех модулей у которых NaN конверсию считаем, т.к. для них нет данных за предыдущий модуль"
   ]
  },
  {
   "cell_type": "markdown",
   "metadata": {},
   "source": [
    "###  Bar-chart, отражающий конверсию перехода студентов из одного модуля в другой на каждом курсе. "
   ]
  },
  {
   "cell_type": "code",
   "execution_count": 11,
   "metadata": {},
   "outputs": [],
   "source": [
    "import matplotlib \n",
    "colors = matplotlib.colors.get_named_colors_mapping() # словарь цветов\n",
    "colors_list = list(colors.values()) # взяли значения для выбора цвета"
   ]
  },
  {
   "cell_type": "code",
   "execution_count": 15,
   "metadata": {},
   "outputs": [],
   "source": [
    "fig, axs = plt.subplots(15, 1, figsize=(10,40))  \n",
    "fig.subplots_adjust(hspace=0.75)\n",
    "\n",
    "i=0\n",
    "for name, group in conv_df.groupby('course_title'):\n",
    "    axs[i].bar(group['module_number'], group['conv'], color = colors_list[i*3])\n",
    "    axs[i].set_ylabel('Конверсия', fontsize = 8)\n",
    "    axs[i].set_xlabel('Номер модуля')\n",
    "    axs[i].set_title(name, fontsize=12)\n",
    "    axs[i].axhline(1, ls='--', color='k', linewidth=0.5)\n",
    "    axs[i].set_xticks(list(group['module_number']))\n",
    "    #axs[i].tick_params(axis='x', rotation=45)\n",
    "        \n",
    "    i+=1\n",
    "\n",
    "plt.show()"
   ]
  },
  {
   "cell_type": "raw",
   "metadata": {},
   "source": [
    "на графиках отсутствуют модули без ДЗ"
   ]
  },
  {
   "cell_type": "markdown",
   "metadata": {},
   "source": [
    "### Bar-chart, отражающий конверсию перехода студентов из одного модуля в другой на каждом курсе. "
   ]
  },
  {
   "cell_type": "code",
   "execution_count": 16,
   "metadata": {},
   "outputs": [],
   "source": [
    "conv_df['module_title'] = conv_df['module_number'].astype(\"string\") + '_' + conv_df['module_title']"
   ]
  },
  {
   "cell_type": "code",
   "execution_count": 17,
   "metadata": {},
   "outputs": [],
   "source": [
    "fig, axs = plt.subplots(15, 1, figsize=(5,90))  \n",
    "fig.subplots_adjust(hspace=0.5)\n",
    "\n",
    "i=0\n",
    "j=0\n",
    "for field, field_group in conv_df.groupby('course_field'): \n",
    "    j += 10\n",
    "    for name, group in field_group.groupby('course_title'): \n",
    "        median_value = round(group['conv'].median(), 2)# мединное значение конверсии для курса\n",
    "        axs[i].barh(group['module_title'], group['conv'], height=0.4, label=field, alpha=0.9, color = colors_list[j])\n",
    "        axs[i].set_xlabel('Коэфициент конверсии', fontsize = 10)\n",
    "        axs[i].set_title(name, fontsize=12)        \n",
    "        axs[i].set_frame_on(False) \n",
    "        axs[i].axvline(median_value, ls='--', color='r', label=f\"Median = {median_value}\", linewidth=0.5)\n",
    "        axs[i].legend()\n",
    "        axs[i].legend(bbox_to_anchor=(1.5,1))\n",
    "        \n",
    "        i+=1\n",
    "\n",
    "plt.show()"
   ]
  },
  {
   "cell_type": "code",
   "execution_count": null,
   "metadata": {},
   "outputs": [],
   "source": []
  }
 ],
 "metadata": {
  "kernelspec": {
   "display_name": "Python 3 (ipykernel)",
   "language": "python",
   "name": "python3"
  },
  "language_info": {
   "codemirror_mode": {
    "name": "ipython",
    "version": 3
   },
   "file_extension": ".py",
   "mimetype": "text/x-python",
   "name": "python",
   "nbconvert_exporter": "python",
   "pygments_lexer": "ipython3",
   "version": "3.9.12"
  }
 },
 "nbformat": 4,
 "nbformat_minor": 4
}
